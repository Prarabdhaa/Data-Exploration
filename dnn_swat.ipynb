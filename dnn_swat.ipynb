{
  "nbformat": 4,
  "nbformat_minor": 0,
  "metadata": {
    "colab": {
      "name": "dnn_swat.ipynb",
      "provenance": [],
      "authorship_tag": "ABX9TyMh5MZtjV0mlP84BOTAX+Q2",
      "include_colab_link": true
    },
    "kernelspec": {
      "name": "python3",
      "display_name": "Python 3"
    }
  },
  "cells": [
    {
      "cell_type": "markdown",
      "metadata": {
        "id": "view-in-github",
        "colab_type": "text"
      },
      "source": [
        "<a href=\"https://colab.research.google.com/github/Prarabdhaa/Data-Exploration/blob/master/dnn_swat.ipynb\" target=\"_parent\"><img src=\"https://colab.research.google.com/assets/colab-badge.svg\" alt=\"Open In Colab\"/></a>"
      ]
    },
    {
      "cell_type": "code",
      "metadata": {
        "id": "67mb697YBVZc",
        "colab_type": "code",
        "colab": {
          "base_uri": "https://localhost:8080/",
          "height": 71
        },
        "outputId": "05a80ef4-d830-4002-dde2-9f7731461e76"
      },
      "source": [
        "import pandas as pd\n",
        "import matplotlib.pyplot as plt\n",
        "import seaborn as sns\n",
        "import numpy as np"
      ],
      "execution_count": 1,
      "outputs": [
        {
          "output_type": "stream",
          "text": [
            "/usr/local/lib/python3.6/dist-packages/statsmodels/tools/_testing.py:19: FutureWarning: pandas.util.testing is deprecated. Use the functions in the public API at pandas.testing instead.\n",
            "  import pandas.util.testing as tm\n"
          ],
          "name": "stderr"
        }
      ]
    },
    {
      "cell_type": "code",
      "metadata": {
        "id": "6CMfDGV7C4eb",
        "colab_type": "code",
        "colab": {}
      },
      "source": [
        "df = pd.read_excel('SWaT_Dataset_Attack_v0.xlsx')"
      ],
      "execution_count": 2,
      "outputs": []
    },
    {
      "cell_type": "code",
      "metadata": {
        "id": "G0geIPeXI7xm",
        "colab_type": "code",
        "colab": {}
      },
      "source": [
        "new_header = df.iloc[0] #grab the first row for the header\n",
        "df = df[1:] #take the data less the header row\n",
        "df.columns = new_header #set the header row as the df header"
      ],
      "execution_count": 3,
      "outputs": []
    },
    {
      "cell_type": "code",
      "metadata": {
        "id": "5p6U8kUIDBzu",
        "colab_type": "code",
        "colab": {
          "base_uri": "https://localhost:8080/",
          "height": 394
        },
        "outputId": "73556b00-0dcb-4cc8-b131-0dfb4eeb72ea"
      },
      "source": [
        "df.head(5)"
      ],
      "execution_count": 4,
      "outputs": [
        {
          "output_type": "execute_result",
          "data": {
            "text/html": [
              "<div>\n",
              "<style scoped>\n",
              "    .dataframe tbody tr th:only-of-type {\n",
              "        vertical-align: middle;\n",
              "    }\n",
              "\n",
              "    .dataframe tbody tr th {\n",
              "        vertical-align: top;\n",
              "    }\n",
              "\n",
              "    .dataframe thead th {\n",
              "        text-align: right;\n",
              "    }\n",
              "</style>\n",
              "<table border=\"1\" class=\"dataframe\">\n",
              "  <thead>\n",
              "    <tr style=\"text-align: right;\">\n",
              "      <th></th>\n",
              "      <th>Timestamp</th>\n",
              "      <th>FIT101</th>\n",
              "      <th>LIT101</th>\n",
              "      <th>MV101</th>\n",
              "      <th>P101</th>\n",
              "      <th>P102</th>\n",
              "      <th>AIT201</th>\n",
              "      <th>AIT202</th>\n",
              "      <th>AIT203</th>\n",
              "      <th>FIT201</th>\n",
              "      <th>MV201</th>\n",
              "      <th>P201</th>\n",
              "      <th>P202</th>\n",
              "      <th>P203</th>\n",
              "      <th>P204</th>\n",
              "      <th>P205</th>\n",
              "      <th>P206</th>\n",
              "      <th>DPIT301</th>\n",
              "      <th>FIT301</th>\n",
              "      <th>LIT301</th>\n",
              "      <th>MV301</th>\n",
              "      <th>MV302</th>\n",
              "      <th>MV303</th>\n",
              "      <th>MV304</th>\n",
              "      <th>P301</th>\n",
              "      <th>P302</th>\n",
              "      <th>AIT401</th>\n",
              "      <th>AIT402</th>\n",
              "      <th>FIT401</th>\n",
              "      <th>LIT401</th>\n",
              "      <th>P401</th>\n",
              "      <th>P402</th>\n",
              "      <th>P403</th>\n",
              "      <th>P404</th>\n",
              "      <th>UV401</th>\n",
              "      <th>AIT501</th>\n",
              "      <th>AIT502</th>\n",
              "      <th>AIT503</th>\n",
              "      <th>AIT504</th>\n",
              "      <th>FIT501</th>\n",
              "      <th>FIT502</th>\n",
              "      <th>FIT503</th>\n",
              "      <th>FIT504</th>\n",
              "      <th>P501</th>\n",
              "      <th>P502</th>\n",
              "      <th>PIT501</th>\n",
              "      <th>PIT502</th>\n",
              "      <th>PIT503</th>\n",
              "      <th>FIT601</th>\n",
              "      <th>P601</th>\n",
              "      <th>P602</th>\n",
              "      <th>P603</th>\n",
              "      <th>Normal/Attack</th>\n",
              "    </tr>\n",
              "  </thead>\n",
              "  <tbody>\n",
              "    <tr>\n",
              "      <th>1</th>\n",
              "      <td>28/12/2015 10:00:00 AM</td>\n",
              "      <td>2.42706</td>\n",
              "      <td>522.847</td>\n",
              "      <td>2</td>\n",
              "      <td>2</td>\n",
              "      <td>1</td>\n",
              "      <td>262.016</td>\n",
              "      <td>8.39644</td>\n",
              "      <td>328.634</td>\n",
              "      <td>2.44539</td>\n",
              "      <td>2</td>\n",
              "      <td>1</td>\n",
              "      <td>1</td>\n",
              "      <td>2</td>\n",
              "      <td>1</td>\n",
              "      <td>2</td>\n",
              "      <td>1</td>\n",
              "      <td>19.7484</td>\n",
              "      <td>2.20683</td>\n",
              "      <td>956.165</td>\n",
              "      <td>1</td>\n",
              "      <td>2</td>\n",
              "      <td>1</td>\n",
              "      <td>1</td>\n",
              "      <td>1</td>\n",
              "      <td>2</td>\n",
              "      <td>148.808</td>\n",
              "      <td>156.088</td>\n",
              "      <td>1.71352</td>\n",
              "      <td>942.066</td>\n",
              "      <td>1</td>\n",
              "      <td>2</td>\n",
              "      <td>1</td>\n",
              "      <td>1</td>\n",
              "      <td>2</td>\n",
              "      <td>7.87862</td>\n",
              "      <td>145.117</td>\n",
              "      <td>264.548</td>\n",
              "      <td>12.0354</td>\n",
              "      <td>1.72379</td>\n",
              "      <td>1.27962</td>\n",
              "      <td>0.735269</td>\n",
              "      <td>0.307786</td>\n",
              "      <td>2</td>\n",
              "      <td>1</td>\n",
              "      <td>250.865</td>\n",
              "      <td>1.64995</td>\n",
              "      <td>189.599</td>\n",
              "      <td>0.000128152</td>\n",
              "      <td>1</td>\n",
              "      <td>1</td>\n",
              "      <td>1</td>\n",
              "      <td>Normal</td>\n",
              "    </tr>\n",
              "    <tr>\n",
              "      <th>2</th>\n",
              "      <td>28/12/2015 10:00:01 AM</td>\n",
              "      <td>2.44627</td>\n",
              "      <td>522.886</td>\n",
              "      <td>2</td>\n",
              "      <td>2</td>\n",
              "      <td>1</td>\n",
              "      <td>262.016</td>\n",
              "      <td>8.39644</td>\n",
              "      <td>328.634</td>\n",
              "      <td>2.44539</td>\n",
              "      <td>2</td>\n",
              "      <td>1</td>\n",
              "      <td>1</td>\n",
              "      <td>2</td>\n",
              "      <td>1</td>\n",
              "      <td>2</td>\n",
              "      <td>1</td>\n",
              "      <td>19.7484</td>\n",
              "      <td>2.20824</td>\n",
              "      <td>956.165</td>\n",
              "      <td>1</td>\n",
              "      <td>2</td>\n",
              "      <td>1</td>\n",
              "      <td>1</td>\n",
              "      <td>1</td>\n",
              "      <td>2</td>\n",
              "      <td>148.808</td>\n",
              "      <td>156.088</td>\n",
              "      <td>1.71595</td>\n",
              "      <td>942.028</td>\n",
              "      <td>1</td>\n",
              "      <td>2</td>\n",
              "      <td>1</td>\n",
              "      <td>1</td>\n",
              "      <td>2</td>\n",
              "      <td>7.87862</td>\n",
              "      <td>145.117</td>\n",
              "      <td>264.548</td>\n",
              "      <td>12.0354</td>\n",
              "      <td>1.72379</td>\n",
              "      <td>1.29755</td>\n",
              "      <td>0.735269</td>\n",
              "      <td>0.307786</td>\n",
              "      <td>2</td>\n",
              "      <td>1</td>\n",
              "      <td>250.865</td>\n",
              "      <td>1.64995</td>\n",
              "      <td>189.679</td>\n",
              "      <td>0.000128152</td>\n",
              "      <td>1</td>\n",
              "      <td>1</td>\n",
              "      <td>1</td>\n",
              "      <td>Normal</td>\n",
              "    </tr>\n",
              "    <tr>\n",
              "      <th>3</th>\n",
              "      <td>28/12/2015 10:00:02 AM</td>\n",
              "      <td>2.48919</td>\n",
              "      <td>522.847</td>\n",
              "      <td>2</td>\n",
              "      <td>2</td>\n",
              "      <td>1</td>\n",
              "      <td>262.016</td>\n",
              "      <td>8.39451</td>\n",
              "      <td>328.634</td>\n",
              "      <td>2.44232</td>\n",
              "      <td>2</td>\n",
              "      <td>1</td>\n",
              "      <td>1</td>\n",
              "      <td>2</td>\n",
              "      <td>1</td>\n",
              "      <td>2</td>\n",
              "      <td>1</td>\n",
              "      <td>19.6908</td>\n",
              "      <td>2.20863</td>\n",
              "      <td>956.486</td>\n",
              "      <td>1</td>\n",
              "      <td>2</td>\n",
              "      <td>1</td>\n",
              "      <td>1</td>\n",
              "      <td>1</td>\n",
              "      <td>2</td>\n",
              "      <td>148.808</td>\n",
              "      <td>156.088</td>\n",
              "      <td>1.71595</td>\n",
              "      <td>941.874</td>\n",
              "      <td>1</td>\n",
              "      <td>2</td>\n",
              "      <td>1</td>\n",
              "      <td>1</td>\n",
              "      <td>2</td>\n",
              "      <td>7.87862</td>\n",
              "      <td>145.117</td>\n",
              "      <td>264.548</td>\n",
              "      <td>12.0354</td>\n",
              "      <td>1.7234</td>\n",
              "      <td>1.29397</td>\n",
              "      <td>0.735269</td>\n",
              "      <td>0.308619</td>\n",
              "      <td>2</td>\n",
              "      <td>1</td>\n",
              "      <td>250.881</td>\n",
              "      <td>1.64995</td>\n",
              "      <td>189.679</td>\n",
              "      <td>0.000128152</td>\n",
              "      <td>1</td>\n",
              "      <td>1</td>\n",
              "      <td>1</td>\n",
              "      <td>Normal</td>\n",
              "    </tr>\n",
              "    <tr>\n",
              "      <th>4</th>\n",
              "      <td>28/12/2015 10:00:03 AM</td>\n",
              "      <td>2.53435</td>\n",
              "      <td>522.965</td>\n",
              "      <td>2</td>\n",
              "      <td>2</td>\n",
              "      <td>1</td>\n",
              "      <td>262.016</td>\n",
              "      <td>8.39451</td>\n",
              "      <td>328.634</td>\n",
              "      <td>2.44232</td>\n",
              "      <td>2</td>\n",
              "      <td>1</td>\n",
              "      <td>1</td>\n",
              "      <td>2</td>\n",
              "      <td>1</td>\n",
              "      <td>2</td>\n",
              "      <td>1</td>\n",
              "      <td>19.6908</td>\n",
              "      <td>2.20863</td>\n",
              "      <td>956.806</td>\n",
              "      <td>1</td>\n",
              "      <td>2</td>\n",
              "      <td>1</td>\n",
              "      <td>1</td>\n",
              "      <td>1</td>\n",
              "      <td>2</td>\n",
              "      <td>148.808</td>\n",
              "      <td>156.088</td>\n",
              "      <td>1.71467</td>\n",
              "      <td>941.797</td>\n",
              "      <td>1</td>\n",
              "      <td>2</td>\n",
              "      <td>1</td>\n",
              "      <td>1</td>\n",
              "      <td>2</td>\n",
              "      <td>7.87862</td>\n",
              "      <td>145.014</td>\n",
              "      <td>264.548</td>\n",
              "      <td>12.0354</td>\n",
              "      <td>1.7234</td>\n",
              "      <td>1.28116</td>\n",
              "      <td>0.735269</td>\n",
              "      <td>0.308619</td>\n",
              "      <td>2</td>\n",
              "      <td>1</td>\n",
              "      <td>250.881</td>\n",
              "      <td>1.64995</td>\n",
              "      <td>189.615</td>\n",
              "      <td>0.000128152</td>\n",
              "      <td>1</td>\n",
              "      <td>1</td>\n",
              "      <td>1</td>\n",
              "      <td>Normal</td>\n",
              "    </tr>\n",
              "    <tr>\n",
              "      <th>5</th>\n",
              "      <td>28/12/2015 10:00:04 AM</td>\n",
              "      <td>2.56926</td>\n",
              "      <td>523.475</td>\n",
              "      <td>2</td>\n",
              "      <td>2</td>\n",
              "      <td>1</td>\n",
              "      <td>262.016</td>\n",
              "      <td>8.39451</td>\n",
              "      <td>328.634</td>\n",
              "      <td>2.44308</td>\n",
              "      <td>2</td>\n",
              "      <td>1</td>\n",
              "      <td>1</td>\n",
              "      <td>2</td>\n",
              "      <td>1</td>\n",
              "      <td>2</td>\n",
              "      <td>1</td>\n",
              "      <td>19.6908</td>\n",
              "      <td>2.20863</td>\n",
              "      <td>957.086</td>\n",
              "      <td>1</td>\n",
              "      <td>2</td>\n",
              "      <td>1</td>\n",
              "      <td>1</td>\n",
              "      <td>1</td>\n",
              "      <td>2</td>\n",
              "      <td>148.808</td>\n",
              "      <td>156.088</td>\n",
              "      <td>1.71467</td>\n",
              "      <td>942.22</td>\n",
              "      <td>1</td>\n",
              "      <td>2</td>\n",
              "      <td>1</td>\n",
              "      <td>1</td>\n",
              "      <td>2</td>\n",
              "      <td>7.87862</td>\n",
              "      <td>144.886</td>\n",
              "      <td>264.548</td>\n",
              "      <td>12.0354</td>\n",
              "      <td>1.7234</td>\n",
              "      <td>1.28116</td>\n",
              "      <td>0.735269</td>\n",
              "      <td>0.308619</td>\n",
              "      <td>2</td>\n",
              "      <td>1</td>\n",
              "      <td>250.881</td>\n",
              "      <td>1.64995</td>\n",
              "      <td>189.503</td>\n",
              "      <td>0.000128152</td>\n",
              "      <td>1</td>\n",
              "      <td>1</td>\n",
              "      <td>1</td>\n",
              "      <td>Normal</td>\n",
              "    </tr>\n",
              "  </tbody>\n",
              "</table>\n",
              "</div>"
            ],
            "text/plain": [
              "0                Timestamp   FIT101   LIT101  ... P602 P603 Normal/Attack\n",
              "1   28/12/2015 10:00:00 AM  2.42706  522.847  ...    1    1        Normal\n",
              "2   28/12/2015 10:00:01 AM  2.44627  522.886  ...    1    1        Normal\n",
              "3   28/12/2015 10:00:02 AM  2.48919  522.847  ...    1    1        Normal\n",
              "4   28/12/2015 10:00:03 AM  2.53435  522.965  ...    1    1        Normal\n",
              "5   28/12/2015 10:00:04 AM  2.56926  523.475  ...    1    1        Normal\n",
              "\n",
              "[5 rows x 53 columns]"
            ]
          },
          "metadata": {
            "tags": []
          },
          "execution_count": 4
        }
      ]
    },
    {
      "cell_type": "code",
      "metadata": {
        "id": "akVDJLOcJAjr",
        "colab_type": "code",
        "colab": {}
      },
      "source": [
        "df = df.drop(df.columns[0], axis=1)"
      ],
      "execution_count": 5,
      "outputs": []
    },
    {
      "cell_type": "code",
      "metadata": {
        "id": "Y8C3PC6nJiVB",
        "colab_type": "code",
        "colab": {
          "base_uri": "https://localhost:8080/",
          "height": 224
        },
        "outputId": "b10c633e-cf0c-43a5-c2b5-fdf8a1e0b92a"
      },
      "source": [
        "df.head()"
      ],
      "execution_count": 6,
      "outputs": [
        {
          "output_type": "execute_result",
          "data": {
            "text/html": [
              "<div>\n",
              "<style scoped>\n",
              "    .dataframe tbody tr th:only-of-type {\n",
              "        vertical-align: middle;\n",
              "    }\n",
              "\n",
              "    .dataframe tbody tr th {\n",
              "        vertical-align: top;\n",
              "    }\n",
              "\n",
              "    .dataframe thead th {\n",
              "        text-align: right;\n",
              "    }\n",
              "</style>\n",
              "<table border=\"1\" class=\"dataframe\">\n",
              "  <thead>\n",
              "    <tr style=\"text-align: right;\">\n",
              "      <th></th>\n",
              "      <th>FIT101</th>\n",
              "      <th>LIT101</th>\n",
              "      <th>MV101</th>\n",
              "      <th>P101</th>\n",
              "      <th>P102</th>\n",
              "      <th>AIT201</th>\n",
              "      <th>AIT202</th>\n",
              "      <th>AIT203</th>\n",
              "      <th>FIT201</th>\n",
              "      <th>MV201</th>\n",
              "      <th>P201</th>\n",
              "      <th>P202</th>\n",
              "      <th>P203</th>\n",
              "      <th>P204</th>\n",
              "      <th>P205</th>\n",
              "      <th>P206</th>\n",
              "      <th>DPIT301</th>\n",
              "      <th>FIT301</th>\n",
              "      <th>LIT301</th>\n",
              "      <th>MV301</th>\n",
              "      <th>MV302</th>\n",
              "      <th>MV303</th>\n",
              "      <th>MV304</th>\n",
              "      <th>P301</th>\n",
              "      <th>P302</th>\n",
              "      <th>AIT401</th>\n",
              "      <th>AIT402</th>\n",
              "      <th>FIT401</th>\n",
              "      <th>LIT401</th>\n",
              "      <th>P401</th>\n",
              "      <th>P402</th>\n",
              "      <th>P403</th>\n",
              "      <th>P404</th>\n",
              "      <th>UV401</th>\n",
              "      <th>AIT501</th>\n",
              "      <th>AIT502</th>\n",
              "      <th>AIT503</th>\n",
              "      <th>AIT504</th>\n",
              "      <th>FIT501</th>\n",
              "      <th>FIT502</th>\n",
              "      <th>FIT503</th>\n",
              "      <th>FIT504</th>\n",
              "      <th>P501</th>\n",
              "      <th>P502</th>\n",
              "      <th>PIT501</th>\n",
              "      <th>PIT502</th>\n",
              "      <th>PIT503</th>\n",
              "      <th>FIT601</th>\n",
              "      <th>P601</th>\n",
              "      <th>P602</th>\n",
              "      <th>P603</th>\n",
              "      <th>Normal/Attack</th>\n",
              "    </tr>\n",
              "  </thead>\n",
              "  <tbody>\n",
              "    <tr>\n",
              "      <th>1</th>\n",
              "      <td>2.42706</td>\n",
              "      <td>522.847</td>\n",
              "      <td>2</td>\n",
              "      <td>2</td>\n",
              "      <td>1</td>\n",
              "      <td>262.016</td>\n",
              "      <td>8.39644</td>\n",
              "      <td>328.634</td>\n",
              "      <td>2.44539</td>\n",
              "      <td>2</td>\n",
              "      <td>1</td>\n",
              "      <td>1</td>\n",
              "      <td>2</td>\n",
              "      <td>1</td>\n",
              "      <td>2</td>\n",
              "      <td>1</td>\n",
              "      <td>19.7484</td>\n",
              "      <td>2.20683</td>\n",
              "      <td>956.165</td>\n",
              "      <td>1</td>\n",
              "      <td>2</td>\n",
              "      <td>1</td>\n",
              "      <td>1</td>\n",
              "      <td>1</td>\n",
              "      <td>2</td>\n",
              "      <td>148.808</td>\n",
              "      <td>156.088</td>\n",
              "      <td>1.71352</td>\n",
              "      <td>942.066</td>\n",
              "      <td>1</td>\n",
              "      <td>2</td>\n",
              "      <td>1</td>\n",
              "      <td>1</td>\n",
              "      <td>2</td>\n",
              "      <td>7.87862</td>\n",
              "      <td>145.117</td>\n",
              "      <td>264.548</td>\n",
              "      <td>12.0354</td>\n",
              "      <td>1.72379</td>\n",
              "      <td>1.27962</td>\n",
              "      <td>0.735269</td>\n",
              "      <td>0.307786</td>\n",
              "      <td>2</td>\n",
              "      <td>1</td>\n",
              "      <td>250.865</td>\n",
              "      <td>1.64995</td>\n",
              "      <td>189.599</td>\n",
              "      <td>0.000128152</td>\n",
              "      <td>1</td>\n",
              "      <td>1</td>\n",
              "      <td>1</td>\n",
              "      <td>Normal</td>\n",
              "    </tr>\n",
              "    <tr>\n",
              "      <th>2</th>\n",
              "      <td>2.44627</td>\n",
              "      <td>522.886</td>\n",
              "      <td>2</td>\n",
              "      <td>2</td>\n",
              "      <td>1</td>\n",
              "      <td>262.016</td>\n",
              "      <td>8.39644</td>\n",
              "      <td>328.634</td>\n",
              "      <td>2.44539</td>\n",
              "      <td>2</td>\n",
              "      <td>1</td>\n",
              "      <td>1</td>\n",
              "      <td>2</td>\n",
              "      <td>1</td>\n",
              "      <td>2</td>\n",
              "      <td>1</td>\n",
              "      <td>19.7484</td>\n",
              "      <td>2.20824</td>\n",
              "      <td>956.165</td>\n",
              "      <td>1</td>\n",
              "      <td>2</td>\n",
              "      <td>1</td>\n",
              "      <td>1</td>\n",
              "      <td>1</td>\n",
              "      <td>2</td>\n",
              "      <td>148.808</td>\n",
              "      <td>156.088</td>\n",
              "      <td>1.71595</td>\n",
              "      <td>942.028</td>\n",
              "      <td>1</td>\n",
              "      <td>2</td>\n",
              "      <td>1</td>\n",
              "      <td>1</td>\n",
              "      <td>2</td>\n",
              "      <td>7.87862</td>\n",
              "      <td>145.117</td>\n",
              "      <td>264.548</td>\n",
              "      <td>12.0354</td>\n",
              "      <td>1.72379</td>\n",
              "      <td>1.29755</td>\n",
              "      <td>0.735269</td>\n",
              "      <td>0.307786</td>\n",
              "      <td>2</td>\n",
              "      <td>1</td>\n",
              "      <td>250.865</td>\n",
              "      <td>1.64995</td>\n",
              "      <td>189.679</td>\n",
              "      <td>0.000128152</td>\n",
              "      <td>1</td>\n",
              "      <td>1</td>\n",
              "      <td>1</td>\n",
              "      <td>Normal</td>\n",
              "    </tr>\n",
              "    <tr>\n",
              "      <th>3</th>\n",
              "      <td>2.48919</td>\n",
              "      <td>522.847</td>\n",
              "      <td>2</td>\n",
              "      <td>2</td>\n",
              "      <td>1</td>\n",
              "      <td>262.016</td>\n",
              "      <td>8.39451</td>\n",
              "      <td>328.634</td>\n",
              "      <td>2.44232</td>\n",
              "      <td>2</td>\n",
              "      <td>1</td>\n",
              "      <td>1</td>\n",
              "      <td>2</td>\n",
              "      <td>1</td>\n",
              "      <td>2</td>\n",
              "      <td>1</td>\n",
              "      <td>19.6908</td>\n",
              "      <td>2.20863</td>\n",
              "      <td>956.486</td>\n",
              "      <td>1</td>\n",
              "      <td>2</td>\n",
              "      <td>1</td>\n",
              "      <td>1</td>\n",
              "      <td>1</td>\n",
              "      <td>2</td>\n",
              "      <td>148.808</td>\n",
              "      <td>156.088</td>\n",
              "      <td>1.71595</td>\n",
              "      <td>941.874</td>\n",
              "      <td>1</td>\n",
              "      <td>2</td>\n",
              "      <td>1</td>\n",
              "      <td>1</td>\n",
              "      <td>2</td>\n",
              "      <td>7.87862</td>\n",
              "      <td>145.117</td>\n",
              "      <td>264.548</td>\n",
              "      <td>12.0354</td>\n",
              "      <td>1.7234</td>\n",
              "      <td>1.29397</td>\n",
              "      <td>0.735269</td>\n",
              "      <td>0.308619</td>\n",
              "      <td>2</td>\n",
              "      <td>1</td>\n",
              "      <td>250.881</td>\n",
              "      <td>1.64995</td>\n",
              "      <td>189.679</td>\n",
              "      <td>0.000128152</td>\n",
              "      <td>1</td>\n",
              "      <td>1</td>\n",
              "      <td>1</td>\n",
              "      <td>Normal</td>\n",
              "    </tr>\n",
              "    <tr>\n",
              "      <th>4</th>\n",
              "      <td>2.53435</td>\n",
              "      <td>522.965</td>\n",
              "      <td>2</td>\n",
              "      <td>2</td>\n",
              "      <td>1</td>\n",
              "      <td>262.016</td>\n",
              "      <td>8.39451</td>\n",
              "      <td>328.634</td>\n",
              "      <td>2.44232</td>\n",
              "      <td>2</td>\n",
              "      <td>1</td>\n",
              "      <td>1</td>\n",
              "      <td>2</td>\n",
              "      <td>1</td>\n",
              "      <td>2</td>\n",
              "      <td>1</td>\n",
              "      <td>19.6908</td>\n",
              "      <td>2.20863</td>\n",
              "      <td>956.806</td>\n",
              "      <td>1</td>\n",
              "      <td>2</td>\n",
              "      <td>1</td>\n",
              "      <td>1</td>\n",
              "      <td>1</td>\n",
              "      <td>2</td>\n",
              "      <td>148.808</td>\n",
              "      <td>156.088</td>\n",
              "      <td>1.71467</td>\n",
              "      <td>941.797</td>\n",
              "      <td>1</td>\n",
              "      <td>2</td>\n",
              "      <td>1</td>\n",
              "      <td>1</td>\n",
              "      <td>2</td>\n",
              "      <td>7.87862</td>\n",
              "      <td>145.014</td>\n",
              "      <td>264.548</td>\n",
              "      <td>12.0354</td>\n",
              "      <td>1.7234</td>\n",
              "      <td>1.28116</td>\n",
              "      <td>0.735269</td>\n",
              "      <td>0.308619</td>\n",
              "      <td>2</td>\n",
              "      <td>1</td>\n",
              "      <td>250.881</td>\n",
              "      <td>1.64995</td>\n",
              "      <td>189.615</td>\n",
              "      <td>0.000128152</td>\n",
              "      <td>1</td>\n",
              "      <td>1</td>\n",
              "      <td>1</td>\n",
              "      <td>Normal</td>\n",
              "    </tr>\n",
              "    <tr>\n",
              "      <th>5</th>\n",
              "      <td>2.56926</td>\n",
              "      <td>523.475</td>\n",
              "      <td>2</td>\n",
              "      <td>2</td>\n",
              "      <td>1</td>\n",
              "      <td>262.016</td>\n",
              "      <td>8.39451</td>\n",
              "      <td>328.634</td>\n",
              "      <td>2.44308</td>\n",
              "      <td>2</td>\n",
              "      <td>1</td>\n",
              "      <td>1</td>\n",
              "      <td>2</td>\n",
              "      <td>1</td>\n",
              "      <td>2</td>\n",
              "      <td>1</td>\n",
              "      <td>19.6908</td>\n",
              "      <td>2.20863</td>\n",
              "      <td>957.086</td>\n",
              "      <td>1</td>\n",
              "      <td>2</td>\n",
              "      <td>1</td>\n",
              "      <td>1</td>\n",
              "      <td>1</td>\n",
              "      <td>2</td>\n",
              "      <td>148.808</td>\n",
              "      <td>156.088</td>\n",
              "      <td>1.71467</td>\n",
              "      <td>942.22</td>\n",
              "      <td>1</td>\n",
              "      <td>2</td>\n",
              "      <td>1</td>\n",
              "      <td>1</td>\n",
              "      <td>2</td>\n",
              "      <td>7.87862</td>\n",
              "      <td>144.886</td>\n",
              "      <td>264.548</td>\n",
              "      <td>12.0354</td>\n",
              "      <td>1.7234</td>\n",
              "      <td>1.28116</td>\n",
              "      <td>0.735269</td>\n",
              "      <td>0.308619</td>\n",
              "      <td>2</td>\n",
              "      <td>1</td>\n",
              "      <td>250.881</td>\n",
              "      <td>1.64995</td>\n",
              "      <td>189.503</td>\n",
              "      <td>0.000128152</td>\n",
              "      <td>1</td>\n",
              "      <td>1</td>\n",
              "      <td>1</td>\n",
              "      <td>Normal</td>\n",
              "    </tr>\n",
              "  </tbody>\n",
              "</table>\n",
              "</div>"
            ],
            "text/plain": [
              "0   FIT101   LIT101  MV101 P101 P102  ...       FIT601 P601 P602 P603 Normal/Attack\n",
              "1  2.42706  522.847      2    2    1  ...  0.000128152    1    1    1        Normal\n",
              "2  2.44627  522.886      2    2    1  ...  0.000128152    1    1    1        Normal\n",
              "3  2.48919  522.847      2    2    1  ...  0.000128152    1    1    1        Normal\n",
              "4  2.53435  522.965      2    2    1  ...  0.000128152    1    1    1        Normal\n",
              "5  2.56926  523.475      2    2    1  ...  0.000128152    1    1    1        Normal\n",
              "\n",
              "[5 rows x 52 columns]"
            ]
          },
          "metadata": {
            "tags": []
          },
          "execution_count": 6
        }
      ]
    },
    {
      "cell_type": "code",
      "metadata": {
        "id": "CE1k7E4dJyBp",
        "colab_type": "code",
        "colab": {
          "base_uri": "https://localhost:8080/",
          "height": 34
        },
        "outputId": "f888e2dc-80d1-4417-9e61-62fc5cbdeb51"
      },
      "source": [
        "len(df.columns)"
      ],
      "execution_count": 7,
      "outputs": [
        {
          "output_type": "execute_result",
          "data": {
            "text/plain": [
              "52"
            ]
          },
          "metadata": {
            "tags": []
          },
          "execution_count": 7
        }
      ]
    },
    {
      "cell_type": "code",
      "metadata": {
        "id": "ukT6xBp_DFdx",
        "colab_type": "code",
        "colab": {
          "base_uri": "https://localhost:8080/",
          "height": 136
        },
        "outputId": "0012f4f5-ec63-41af-f5e7-91e08d236e5b"
      },
      "source": [
        "list_col = []\n",
        "for cols in df.columns:\n",
        "  if(df[cols].nunique()<2):\n",
        "    print(cols)\n",
        "    list_col.append(cols)\n",
        "df = df.drop(columns=list_col)"
      ],
      "execution_count": 8,
      "outputs": [
        {
          "output_type": "stream",
          "text": [
            " P202\n",
            "P301\n",
            "P401\n",
            "P404\n",
            "P502\n",
            "P601\n",
            "P603\n"
          ],
          "name": "stdout"
        }
      ]
    },
    {
      "cell_type": "code",
      "metadata": {
        "id": "0v5yTF_gD95h",
        "colab_type": "code",
        "colab": {
          "base_uri": "https://localhost:8080/",
          "height": 34
        },
        "outputId": "96067dcb-9148-4136-a889-bf50292814b4"
      },
      "source": [
        "len(df.columns)"
      ],
      "execution_count": 9,
      "outputs": [
        {
          "output_type": "execute_result",
          "data": {
            "text/plain": [
              "45"
            ]
          },
          "metadata": {
            "tags": []
          },
          "execution_count": 9
        }
      ]
    },
    {
      "cell_type": "code",
      "metadata": {
        "id": "uA0jfRtsLrSs",
        "colab_type": "code",
        "colab": {
          "base_uri": "https://localhost:8080/",
          "height": 34
        },
        "outputId": "a9322a8d-5e3e-40d5-e0ad-b3d261a4fab6"
      },
      "source": [
        "df['Normal/Attack'].unique()"
      ],
      "execution_count": 10,
      "outputs": [
        {
          "output_type": "execute_result",
          "data": {
            "text/plain": [
              "array(['Normal', 'Attack', 'A ttack'], dtype=object)"
            ]
          },
          "metadata": {
            "tags": []
          },
          "execution_count": 10
        }
      ]
    },
    {
      "cell_type": "code",
      "metadata": {
        "id": "yLTIv2kEjwb9",
        "colab_type": "code",
        "colab": {}
      },
      "source": [
        "df['Normal/Attack'] = df['Normal/Attack'].str.replace(' ', '')"
      ],
      "execution_count": 11,
      "outputs": []
    },
    {
      "cell_type": "code",
      "metadata": {
        "id": "6OSEjPTHOmJG",
        "colab_type": "code",
        "colab": {
          "base_uri": "https://localhost:8080/",
          "height": 34
        },
        "outputId": "95240155-9fb6-4e85-c676-e9c5989f2fe4"
      },
      "source": [
        "df['Normal/Attack'].unique()"
      ],
      "execution_count": 12,
      "outputs": [
        {
          "output_type": "execute_result",
          "data": {
            "text/plain": [
              "array(['Normal', 'Attack'], dtype=object)"
            ]
          },
          "metadata": {
            "tags": []
          },
          "execution_count": 12
        }
      ]
    },
    {
      "cell_type": "code",
      "metadata": {
        "id": "NHmFPO3VWAV1",
        "colab_type": "code",
        "colab": {}
      },
      "source": [
        "df = df.infer_objects() \n",
        "#print(df.dtypes)  "
      ],
      "execution_count": 13,
      "outputs": []
    },
    {
      "cell_type": "code",
      "metadata": {
        "id": "E0Wfm0cZKP9D",
        "colab_type": "code",
        "colab": {}
      },
      "source": [
        "df['out'] = df['Normal/Attack'].astype('category').cat.codes"
      ],
      "execution_count": 14,
      "outputs": []
    },
    {
      "cell_type": "code",
      "metadata": {
        "id": "PTa3wi5MK_IL",
        "colab_type": "code",
        "colab": {
          "base_uri": "https://localhost:8080/",
          "height": 34
        },
        "outputId": "7c26fc19-b142-4c21-9006-ea90add08790"
      },
      "source": [
        "len(df.columns)"
      ],
      "execution_count": 15,
      "outputs": [
        {
          "output_type": "execute_result",
          "data": {
            "text/plain": [
              "46"
            ]
          },
          "metadata": {
            "tags": []
          },
          "execution_count": 15
        }
      ]
    },
    {
      "cell_type": "code",
      "metadata": {
        "id": "ddfonpi1MSCO",
        "colab_type": "code",
        "colab": {
          "base_uri": "https://localhost:8080/",
          "height": 34
        },
        "outputId": "adcc033e-66a3-45bf-d910-e5cc3286bde4"
      },
      "source": [
        "df['out'].unique()"
      ],
      "execution_count": 16,
      "outputs": [
        {
          "output_type": "execute_result",
          "data": {
            "text/plain": [
              "array([1, 0], dtype=int8)"
            ]
          },
          "metadata": {
            "tags": []
          },
          "execution_count": 16
        }
      ]
    },
    {
      "cell_type": "code",
      "metadata": {
        "id": "ixxDifi7Mkc0",
        "colab_type": "code",
        "colab": {}
      },
      "source": [
        "#drop output column (string type)\n",
        "df = df.drop(df.columns[44], axis=1)"
      ],
      "execution_count": 17,
      "outputs": []
    },
    {
      "cell_type": "code",
      "metadata": {
        "id": "nEWqQeIXfFrq",
        "colab_type": "code",
        "colab": {
          "base_uri": "https://localhost:8080/",
          "height": 574
        },
        "outputId": "194652fd-d759-4a92-9aba-31396838027d"
      },
      "source": [
        "sns.set()\n",
        "a4_dims = (11.7, 8.27)\n",
        "fig, ax = plt.subplots(figsize=a4_dims)\n",
        "corr = df.corr()\n",
        "sns.heatmap(corr, \n",
        "            xticklabels=corr.columns.values,\n",
        "            yticklabels=corr.columns.values, ax=ax)"
      ],
      "execution_count": 18,
      "outputs": [
        {
          "output_type": "execute_result",
          "data": {
            "text/plain": [
              "<matplotlib.axes._subplots.AxesSubplot at 0x7f6bebca46a0>"
            ]
          },
          "metadata": {
            "tags": []
          },
          "execution_count": 18
        },
        {
          "output_type": "display_data",
          "data": {
            "image/png": "[encoded data removed]",
            "text/plain": [
              "<Figure size 842.4x595.44 with 2 Axes>"
            ]
          },
          "metadata": {
            "tags": []
          }
        }
      ]
    },
    {
      "cell_type": "code",
      "metadata": {
        "id": "npi-GyhCd5hM",
        "colab_type": "code",
        "colab": {
          "base_uri": "https://localhost:8080/",
          "height": 782
        },
        "outputId": "4712eda2-422f-4d7d-abb6-8b355040a590"
      },
      "source": [
        "for cols in df.columns:\n",
        "  print(cols, df[cols].nunique())"
      ],
      "execution_count": 19,
      "outputs": [
        {
          "output_type": "stream",
          "text": [
            "FIT101 2788\n",
            "LIT101 9843\n",
            " MV101 3\n",
            "P101 2\n",
            "P102 2\n",
            " AIT201 2137\n",
            "AIT202 965\n",
            "AIT203 2584\n",
            "FIT201 3144\n",
            " MV201 3\n",
            " P201 2\n",
            "P203 2\n",
            " P204 2\n",
            "P205 2\n",
            "P206 2\n",
            "DPIT301 4478\n",
            "FIT301 5638\n",
            "LIT301 7274\n",
            "MV301 3\n",
            "MV302 3\n",
            " MV303 3\n",
            "MV304 3\n",
            "P302 2\n",
            "AIT401 17\n",
            "AIT402 3166\n",
            "FIT401 590\n",
            "LIT401 12772\n",
            "P402 2\n",
            "P403 2\n",
            "UV401 2\n",
            "AIT501 1578\n",
            "AIT502 2721\n",
            "AIT503 1123\n",
            "AIT504 331\n",
            "FIT501 670\n",
            "FIT502 1199\n",
            "FIT503 313\n",
            "FIT504 217\n",
            "P501 2\n",
            "PIT501 946\n",
            "PIT502 81\n",
            "PIT503 869\n",
            "FIT601 3696\n",
            "P602 2\n",
            "out 2\n"
          ],
          "name": "stdout"
        }
      ]
    },
    {
      "cell_type": "code",
      "metadata": {
        "id": "Se5mwa1vlqXw",
        "colab_type": "code",
        "colab": {}
      },
      "source": [
        "test = df['out']\n",
        "train = df.drop(df.columns[44], axis=1)"
      ],
      "execution_count": 20,
      "outputs": []
    },
    {
      "cell_type": "code",
      "metadata": {
        "id": "T8r5jdC0fykM",
        "colab_type": "code",
        "colab": {
          "base_uri": "https://localhost:8080/",
          "height": 71
        },
        "outputId": "559ff73a-c956-4256-8a47-74f874aa0554"
      },
      "source": [
        "encode = []\n",
        "scale = []\n",
        "for col in train.columns:\n",
        "  if(train[col].nunique()<5):\n",
        "    encode.append(col)\n",
        "  else:\n",
        "    scale.append(col)\n",
        "print(scale)\n",
        "print(encode)"
      ],
      "execution_count": 21,
      "outputs": [
        {
          "output_type": "stream",
          "text": [
            "['FIT101', 'LIT101', ' AIT201', 'AIT202', 'AIT203', 'FIT201', 'DPIT301', 'FIT301', 'LIT301', 'AIT401', 'AIT402', 'FIT401', 'LIT401', 'AIT501', 'AIT502', 'AIT503', 'AIT504', 'FIT501', 'FIT502', 'FIT503', 'FIT504', 'PIT501', 'PIT502', 'PIT503', 'FIT601']\n",
            "[' MV101', 'P101', 'P102', ' MV201', ' P201', 'P203', ' P204', 'P205', 'P206', 'MV301', 'MV302', ' MV303', 'MV304', 'P302', 'P402', 'P403', 'UV401', 'P501', 'P602']\n"
          ],
          "name": "stdout"
        }
      ]
    },
    {
      "cell_type": "markdown",
      "metadata": {
        "id": "cyHms4cylEbO",
        "colab_type": "text"
      },
      "source": [
        "Training & Testing"
      ]
    },
    {
      "cell_type": "code",
      "metadata": {
        "id": "8dHVHH2_2zyE",
        "colab_type": "code",
        "colab": {}
      },
      "source": [
        "from sklearn.model_selection import train_test_split\n",
        "from keras import Sequential\n",
        "from keras.layers import Dense\n",
        "from keras.utils import to_categorical"
      ],
      "execution_count": 22,
      "outputs": []
    },
    {
      "cell_type": "code",
      "metadata": {
        "id": "ypPQILzBgVbO",
        "colab_type": "code",
        "colab": {}
      },
      "source": [
        "#df_n = df[df['out'] == 1]\n",
        "#df_a = df[df['out'] == 0]\n",
        "#test_a = df_a['out']\n",
        "#train_a = df_a.drop(df_a.columns[44], axis=1)\n",
        "#test_n = df_n['out']\n",
        "#train_n = df_n.drop(df_n.columns[44], axis=1)\n",
        "#train_x = pd.concat([X_train_a, X_train_n])\n",
        "#test_x = pd.concat([X_test_a, X_test_n])\n",
        "#train_y = pd.concat([y_train_a, y_train_n])\n",
        "#test_y = pd.concat([y_test_a, y_test_n])\n",
        "#df = df.sample(frac = 1) \n"
      ],
      "execution_count": 23,
      "outputs": []
    },
    {
      "cell_type": "code",
      "metadata": {
        "id": "8v8oBLD6mBR-",
        "colab_type": "code",
        "colab": {}
      },
      "source": [
        "train_x, test_x, train_y, test_y = train_test_split(train, test, stratify=test, test_size=0.25, shuffle = True,  random_state=42)"
      ],
      "execution_count": 24,
      "outputs": []
    },
    {
      "cell_type": "code",
      "metadata": {
        "id": "MQHtQod85aTd",
        "colab_type": "code",
        "colab": {
          "base_uri": "https://localhost:8080/",
          "height": 34
        },
        "outputId": "1080e0b1-4c5f-4d22-9713-153f052c0532"
      },
      "source": [
        "print(len(train_x)+len(test_x))"
      ],
      "execution_count": 25,
      "outputs": [
        {
          "output_type": "stream",
          "text": [
            "449919\n"
          ],
          "name": "stdout"
        }
      ]
    },
    {
      "cell_type": "code",
      "metadata": {
        "id": "1XpxxI9Igtan",
        "colab_type": "code",
        "colab": {}
      },
      "source": [
        "from sklearn.preprocessing import StandardScaler, OneHotEncoder\n",
        "\n",
        "scaler = StandardScaler()\n",
        "ohe    = OneHotEncoder(sparse=False)\n",
        "\n",
        "# Scale and Encode Separate Columns\n",
        "scaled_train  = scaler.fit_transform(train_x[scale]) \n",
        "encoded_train = ohe.fit_transform(train_x[encode])\n",
        "\n",
        "scaled_test = scaler.fit_transform(test_x[scale]) \n",
        "encoded_test = ohe.fit_transform(test_x[encode])"
      ],
      "execution_count": 26,
      "outputs": []
    },
    {
      "cell_type": "code",
      "metadata": {
        "id": "aDahKnUgoBcG",
        "colab_type": "code",
        "colab": {}
      },
      "source": [
        "X = np.concatenate([scaled_train, encoded_train], axis=1)\n",
        "test_X = np.concatenate([scaled_test, encoded_test], axis=1)\n",
        "\n",
        "Y = to_categorical(train_y)\n",
        "test_Y = to_categorical(test_y)"
      ],
      "execution_count": 27,
      "outputs": []
    },
    {
      "cell_type": "code",
      "metadata": {
        "id": "1MpyxPEJGCO-",
        "colab_type": "code",
        "colab": {
          "base_uri": "https://localhost:8080/",
          "height": 34
        },
        "outputId": "549731bc-99cd-4b07-a7fc-09c7a8eea487"
      },
      "source": [
        "col_num = X.shape[1]\n",
        "col_num"
      ],
      "execution_count": 28,
      "outputs": [
        {
          "output_type": "execute_result",
          "data": {
            "text/plain": [
              "69"
            ]
          },
          "metadata": {
            "tags": []
          },
          "execution_count": 28
        }
      ]
    },
    {
      "cell_type": "code",
      "metadata": {
        "id": "Chg43pm553IK",
        "colab_type": "code",
        "colab": {}
      },
      "source": [
        "classifier = Sequential()\n",
        "#First Hidden Layer\n",
        "classifier.add(Dense(10, activation='relu', input_shape=(col_num,)))\n",
        "#Second  Hidden Layer\n",
        "classifier.add(Dense(10, activation='relu'))\n",
        "#Third  Hidden Layer\n",
        "classifier.add(Dense(10, activation='relu'))\n",
        "#Output Layer\n",
        "classifier.add(Dense(2, activation='softmax'))"
      ],
      "execution_count": 29,
      "outputs": []
    },
    {
      "cell_type": "code",
      "metadata": {
        "id": "ovdSJcvmDr4e",
        "colab_type": "code",
        "colab": {}
      },
      "source": [
        "classifier.compile(optimizer ='adam',loss='binary_crossentropy', metrics =['accuracy'])"
      ],
      "execution_count": 30,
      "outputs": []
    },
    {
      "cell_type": "code",
      "metadata": {
        "id": "Y2xyAlOcG4dt",
        "colab_type": "code",
        "colab": {
          "base_uri": "https://localhost:8080/",
          "height": 71
        },
        "outputId": "5ebd4643-e6ba-4d2c-8dc1-c90fd02e50c7"
      },
      "source": [
        "classifier.fit(X, Y, batch_size=10, epochs=1, validation_split=0.2)"
      ],
      "execution_count": 31,
      "outputs": [
        {
          "output_type": "stream",
          "text": [
            "26996/26996 [==============================] - 40s 1ms/step - loss: 0.0754 - accuracy: 0.9798 - val_loss: 0.0605 - val_accuracy: 0.9843\n"
          ],
          "name": "stdout"
        },
        {
          "output_type": "execute_result",
          "data": {
            "text/plain": [
              "<tensorflow.python.keras.callbacks.History at 0x7f6bf4cc6f98>"
            ]
          },
          "metadata": {
            "tags": []
          },
          "execution_count": 31
        }
      ]
    },
    {
      "cell_type": "code",
      "metadata": {
        "id": "AKEr1Z9d3yhd",
        "colab_type": "code",
        "colab": {}
      },
      "source": [
        "y_pred=classifier.predict(test_X)\n",
        "y_pred =(y_pred>0.5)"
      ],
      "execution_count": 32,
      "outputs": []
    },
    {
      "cell_type": "code",
      "metadata": {
        "id": "WmOhVvcj-yBk",
        "colab_type": "code",
        "colab": {
          "base_uri": "https://localhost:8080/",
          "height": 51
        },
        "outputId": "77fb5b6c-9c8c-42ca-bfab-79843751b7aa"
      },
      "source": [
        "from sklearn.metrics import confusion_matrix\n",
        "cm = confusion_matrix(test_Y.argmax(axis=1), y_pred.argmax(axis=1))\n",
        "print(cm)"
      ],
      "execution_count": 35,
      "outputs": [
        {
          "output_type": "stream",
          "text": [
            "[[12107  1548]\n",
            " [  224 98601]]\n"
          ],
          "name": "stdout"
        }
      ]
    },
    {
      "cell_type": "code",
      "metadata": {
        "id": "Dyt2lIZUGHmC",
        "colab_type": "code",
        "colab": {}
      },
      "source": [
        ""
      ],
      "execution_count": null,
      "outputs": []
    }
  ]
}